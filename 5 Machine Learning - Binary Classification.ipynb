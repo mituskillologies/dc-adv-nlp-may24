{
 "cells": [
  {
   "cell_type": "markdown",
   "id": "360cb2c8-1d9f-4fec-8453-57f0a5fbcbe3",
   "metadata": {},
   "source": [
    "##### Dataset"
   ]
  },
  {
   "cell_type": "code",
   "execution_count": 4,
   "id": "bb44e901-3410-4fdf-a999-4d660c696849",
   "metadata": {},
   "outputs": [],
   "source": [
    "# Name: news_data.csv, sample_news.txt\n",
    "# Location: https://mitu.co.in/dataset"
   ]
  },
  {
   "cell_type": "markdown",
   "id": "25157a9c-1767-4ad4-ac7f-fefd99bc3265",
   "metadata": {},
   "source": [
    "##### Download the dataset and save in your current working directory"
   ]
  },
  {
   "cell_type": "code",
   "execution_count": 5,
   "id": "9a84b02c-db72-4ec7-a573-11f529fa5f89",
   "metadata": {},
   "outputs": [],
   "source": [
    "import os\n",
    "os.getcwd();"
   ]
  },
  {
   "cell_type": "code",
   "execution_count": 6,
   "id": "514be80b-5cf9-45bf-b0d4-88dbaa7856eb",
   "metadata": {},
   "outputs": [],
   "source": [
    "os.listdir(os.getcwd());"
   ]
  },
  {
   "cell_type": "markdown",
   "id": "0481c7dd-ccb1-4044-8d10-5830a4743d8c",
   "metadata": {},
   "source": [
    "##### Import the libraries"
   ]
  },
  {
   "cell_type": "code",
   "execution_count": 7,
   "id": "7244b1d2-7c8d-49ac-b161-e0a06a85ee83",
   "metadata": {},
   "outputs": [],
   "source": [
    "import pandas as pd\n",
    "import seaborn as sns\n",
    "import matplotlib.pyplot as plt"
   ]
  },
  {
   "cell_type": "markdown",
   "id": "a61c1dc6-949c-4db1-8de1-213860cfc063",
   "metadata": {},
   "source": [
    "##### Read the dataset"
   ]
  },
  {
   "cell_type": "code",
   "execution_count": 8,
   "id": "4dca543d-9188-4bfa-86f2-68b6dfb1188b",
   "metadata": {},
   "outputs": [],
   "source": [
    "df = pd.read_csv('news_data.csv')"
   ]
  },
  {
   "cell_type": "code",
   "execution_count": 9,
   "id": "07bb4a18-8866-4ad2-bcce-c944e77723c8",
   "metadata": {},
   "outputs": [
    {
     "data": {
      "text/plain": [
       "(9900, 2)"
      ]
     },
     "execution_count": 9,
     "metadata": {},
     "output_type": "execute_result"
    }
   ],
   "source": [
    "df.shape"
   ]
  },
  {
   "cell_type": "code",
   "execution_count": 10,
   "id": "b6e33a9c-7d2b-42a7-be3c-711bf7af88bf",
   "metadata": {},
   "outputs": [
    {
     "data": {
      "text/plain": [
       "Index(['Text', 'label'], dtype='object')"
      ]
     },
     "execution_count": 10,
     "metadata": {},
     "output_type": "execute_result"
    }
   ],
   "source": [
    "df.columns"
   ]
  },
  {
   "cell_type": "markdown",
   "id": "62d165a1-4261-4051-9b46-6b15d219deb7",
   "metadata": {},
   "source": [
    "##### Separate the input and output data"
   ]
  },
  {
   "cell_type": "code",
   "execution_count": 11,
   "id": "39b99af9-6e13-47c8-a0da-a6e14b68ccba",
   "metadata": {},
   "outputs": [],
   "source": [
    "features = df['Text']  # input data\n",
    "label = df['label']    # output data"
   ]
  },
  {
   "cell_type": "code",
   "execution_count": 12,
   "id": "796f9de3-8248-4d47-8ce9-71dea87217db",
   "metadata": {},
   "outputs": [
    {
     "data": {
      "text/plain": [
       "0     Top Trump Surrogate BRUTALLY Stabs Him In The...\n",
       "1    U.S. conservative leader optimistic of common ...\n",
       "2    Trump proposes U.S. tax overhaul, stirs concer...\n",
       "3     Court Forces Ohio To Allow Millions Of Illega...\n",
       "4    Democrats say Trump agrees to work on immigrat...\n",
       "Name: Text, dtype: object"
      ]
     },
     "execution_count": 12,
     "metadata": {},
     "output_type": "execute_result"
    }
   ],
   "source": [
    "features.head()"
   ]
  },
  {
   "cell_type": "code",
   "execution_count": 13,
   "id": "650f2091-0833-4894-ae8b-721a525f518f",
   "metadata": {},
   "outputs": [
    {
     "data": {
      "text/plain": [
       "0       Fake\n",
       "1       Real\n",
       "2       Real\n",
       "3       Fake\n",
       "4       Real\n",
       "        ... \n",
       "9895    Fake\n",
       "9896    Real\n",
       "9897    Real\n",
       "9898    Fake\n",
       "9899    Fake\n",
       "Name: label, Length: 9900, dtype: object"
      ]
     },
     "execution_count": 13,
     "metadata": {},
     "output_type": "execute_result"
    }
   ],
   "source": [
    "label"
   ]
  },
  {
   "cell_type": "code",
   "execution_count": 14,
   "id": "78854d56-066f-48ad-94db-22024d421196",
   "metadata": {},
   "outputs": [
    {
     "data": {
      "text/plain": [
       "{'Fake', 'Real'}"
      ]
     },
     "execution_count": 14,
     "metadata": {},
     "output_type": "execute_result"
    }
   ],
   "source": [
    "set(label)"
   ]
  },
  {
   "cell_type": "code",
   "execution_count": 15,
   "id": "d302623f-0c02-4d5e-b99e-f4f16cbeb69c",
   "metadata": {},
   "outputs": [
    {
     "data": {
      "text/plain": [
       "<Axes: xlabel='label', ylabel='count'>"
      ]
     },
     "execution_count": 15,
     "metadata": {},
     "output_type": "execute_result"
    },
    {
     "data": {
      "image/png": "[encoded data removed]",
      "text/plain": [
       "<Figure size 640x480 with 1 Axes>"
      ]
     },
     "metadata": {},
     "output_type": "display_data"
    }
   ],
   "source": [
    "sns.countplot(x = label)"
   ]
  },
  {
   "cell_type": "code",
   "execution_count": 16,
   "id": "d6a59d77-3799-4a63-8c3b-2b7926d0db88",
   "metadata": {},
   "outputs": [
    {
     "data": {
      "text/plain": [
       "label\n",
       "Fake    5000\n",
       "Real    4900\n",
       "Name: count, dtype: int64"
      ]
     },
     "execution_count": 16,
     "metadata": {},
     "output_type": "execute_result"
    }
   ],
   "source": [
    "label.value_counts()"
   ]
  },
  {
   "cell_type": "code",
   "execution_count": 18,
   "id": "357fee4b-e2ec-45dc-8e22-3672c07325c7",
   "metadata": {},
   "outputs": [
    {
     "data": {
      "image/png": "[encoded data removed]",
      "text/plain": [
       "<Figure size 640x480 with 1 Axes>"
      ]
     },
     "metadata": {},
     "output_type": "display_data"
    }
   ],
   "source": [
    "plt.pie(label.value_counts(), labels=label.value_counts().index, autopct='%2.2f%%');"
   ]
  },
  {
   "cell_type": "markdown",
   "id": "68d38651-b801-401d-9476-491d6604269f",
   "metadata": {},
   "source": [
    "#### Data Preparation"
   ]
  },
  {
   "cell_type": "markdown",
   "id": "efffe826-35ac-4b84-b228-66e5de7f4bf8",
   "metadata": {},
   "source": [
    "##### Data Cleaning"
   ]
  },
  {
   "cell_type": "code",
   "execution_count": 19,
   "id": "d49e70e2-a7f2-4245-80b3-626dd41fd291",
   "metadata": {},
   "outputs": [],
   "source": [
    "from nltk.tokenize import word_tokenize\n",
    "from nltk.corpus import stopwords\n",
    "from nltk.stem import PorterStemmer"
   ]
  },
  {
   "cell_type": "code",
   "execution_count": 20,
   "id": "6d5e9daf-be5e-4eea-a5d9-5ec73149d167",
   "metadata": {},
   "outputs": [],
   "source": [
    "sent = 'Hello friends! How are you? I like Python Programming.'"
   ]
  },
  {
   "cell_type": "code",
   "execution_count": 21,
   "id": "43a9ef80-3586-4864-862a-9b1ed2f39fa5",
   "metadata": {},
   "outputs": [],
   "source": [
    "# Tokenize\n",
    "tokens1 = word_tokenize(sent)"
   ]
  },
  {
   "cell_type": "code",
   "execution_count": 22,
   "id": "72d15c7b-2dac-4ecd-8d0f-8921a4b71a8e",
   "metadata": {},
   "outputs": [
    {
     "data": {
      "text/plain": [
       "['Hello',\n",
       " 'friends',\n",
       " '!',\n",
       " 'How',\n",
       " 'are',\n",
       " 'you',\n",
       " '?',\n",
       " 'I',\n",
       " 'like',\n",
       " 'Python',\n",
       " 'Programming',\n",
       " '.']"
      ]
     },
     "execution_count": 22,
     "metadata": {},
     "output_type": "execute_result"
    }
   ],
   "source": [
    "tokens1"
   ]
  },
  {
   "cell_type": "code",
   "execution_count": 23,
   "id": "9707f19c-c008-4f56-9fc4-a7f8743b82bb",
   "metadata": {},
   "outputs": [],
   "source": [
    "# remove punctuations\n",
    "tokens2 = [x.lower() for x in tokens1 if x.isalpha()]"
   ]
  },
  {
   "cell_type": "code",
   "execution_count": 24,
   "id": "e2c4a8db-214a-4502-a4bd-b559dd18e7f0",
   "metadata": {},
   "outputs": [
    {
     "data": {
      "text/plain": [
       "['hello', 'friends', 'how', 'are', 'you', 'i', 'like', 'python', 'programming']"
      ]
     },
     "execution_count": 24,
     "metadata": {},
     "output_type": "execute_result"
    }
   ],
   "source": [
    "tokens2"
   ]
  },
  {
   "cell_type": "code",
   "execution_count": 25,
   "id": "746a4c51-3d6a-4eef-8c13-9b371e24a214",
   "metadata": {},
   "outputs": [],
   "source": [
    "# remove stopwords\n",
    "swords = stopwords.words('english')"
   ]
  },
  {
   "cell_type": "code",
   "execution_count": 26,
   "id": "fd1324eb-cc06-4fb1-a789-e66cd3434cc7",
   "metadata": {},
   "outputs": [
    {
     "data": {
      "text/plain": [
       "['i',\n",
       " 'me',\n",
       " 'my',\n",
       " 'myself',\n",
       " 'we',\n",
       " 'our',\n",
       " 'ours',\n",
       " 'ourselves',\n",
       " 'you',\n",
       " \"you're\",\n",
       " \"you've\",\n",
       " \"you'll\",\n",
       " \"you'd\",\n",
       " 'your',\n",
       " 'yours',\n",
       " 'yourself',\n",
       " 'yourselves',\n",
       " 'he',\n",
       " 'him',\n",
       " 'his',\n",
       " 'himself',\n",
       " 'she',\n",
       " \"she's\",\n",
       " 'her',\n",
       " 'hers',\n",
       " 'herself',\n",
       " 'it',\n",
       " \"it's\",\n",
       " 'its',\n",
       " 'itself',\n",
       " 'they',\n",
       " 'them',\n",
       " 'their',\n",
       " 'theirs',\n",
       " 'themselves',\n",
       " 'what',\n",
       " 'which',\n",
       " 'who',\n",
       " 'whom',\n",
       " 'this',\n",
       " 'that',\n",
       " \"that'll\",\n",
       " 'these',\n",
       " 'those',\n",
       " 'am',\n",
       " 'is',\n",
       " 'are',\n",
       " 'was',\n",
       " 'were',\n",
       " 'be',\n",
       " 'been',\n",
       " 'being',\n",
       " 'have',\n",
       " 'has',\n",
       " 'had',\n",
       " 'having',\n",
       " 'do',\n",
       " 'does',\n",
       " 'did',\n",
       " 'doing',\n",
       " 'a',\n",
       " 'an',\n",
       " 'the',\n",
       " 'and',\n",
       " 'but',\n",
       " 'if',\n",
       " 'or',\n",
       " 'because',\n",
       " 'as',\n",
       " 'until',\n",
       " 'while',\n",
       " 'of',\n",
       " 'at',\n",
       " 'by',\n",
       " 'for',\n",
       " 'with',\n",
       " 'about',\n",
       " 'against',\n",
       " 'between',\n",
       " 'into',\n",
       " 'through',\n",
       " 'during',\n",
       " 'before',\n",
       " 'after',\n",
       " 'above',\n",
       " 'below',\n",
       " 'to',\n",
       " 'from',\n",
       " 'up',\n",
       " 'down',\n",
       " 'in',\n",
       " 'out',\n",
       " 'on',\n",
       " 'off',\n",
       " 'over',\n",
       " 'under',\n",
       " 'again',\n",
       " 'further',\n",
       " 'then',\n",
       " 'once',\n",
       " 'here',\n",
       " 'there',\n",
       " 'when',\n",
       " 'where',\n",
       " 'why',\n",
       " 'how',\n",
       " 'all',\n",
       " 'any',\n",
       " 'both',\n",
       " 'each',\n",
       " 'few',\n",
       " 'more',\n",
       " 'most',\n",
       " 'other',\n",
       " 'some',\n",
       " 'such',\n",
       " 'no',\n",
       " 'nor',\n",
       " 'not',\n",
       " 'only',\n",
       " 'own',\n",
       " 'same',\n",
       " 'so',\n",
       " 'than',\n",
       " 'too',\n",
       " 'very',\n",
       " 's',\n",
       " 't',\n",
       " 'can',\n",
       " 'will',\n",
       " 'just',\n",
       " 'don',\n",
       " \"don't\",\n",
       " 'should',\n",
       " \"should've\",\n",
       " 'now',\n",
       " 'd',\n",
       " 'll',\n",
       " 'm',\n",
       " 'o',\n",
       " 're',\n",
       " 've',\n",
       " 'y',\n",
       " 'ain',\n",
       " 'aren',\n",
       " \"aren't\",\n",
       " 'couldn',\n",
       " \"couldn't\",\n",
       " 'didn',\n",
       " \"didn't\",\n",
       " 'doesn',\n",
       " \"doesn't\",\n",
       " 'hadn',\n",
       " \"hadn't\",\n",
       " 'hasn',\n",
       " \"hasn't\",\n",
       " 'haven',\n",
       " \"haven't\",\n",
       " 'isn',\n",
       " \"isn't\",\n",
       " 'ma',\n",
       " 'mightn',\n",
       " \"mightn't\",\n",
       " 'mustn',\n",
       " \"mustn't\",\n",
       " 'needn',\n",
       " \"needn't\",\n",
       " 'shan',\n",
       " \"shan't\",\n",
       " 'shouldn',\n",
       " \"shouldn't\",\n",
       " 'wasn',\n",
       " \"wasn't\",\n",
       " 'weren',\n",
       " \"weren't\",\n",
       " 'won',\n",
       " \"won't\",\n",
       " 'wouldn',\n",
       " \"wouldn't\"]"
      ]
     },
     "execution_count": 26,
     "metadata": {},
     "output_type": "execute_result"
    }
   ],
   "source": [
    "swords"
   ]
  },
  {
   "cell_type": "code",
   "execution_count": 27,
   "id": "167ed3f1-1b4c-4284-a7f7-637376cc96b5",
   "metadata": {},
   "outputs": [],
   "source": [
    "tokens3 = [x for x in tokens2 if x not in swords]"
   ]
  },
  {
   "cell_type": "code",
   "execution_count": 28,
   "id": "13704eff-0878-4657-b0ae-f40330d38586",
   "metadata": {},
   "outputs": [
    {
     "data": {
      "text/plain": [
       "['hello', 'friends', 'like', 'python', 'programming']"
      ]
     },
     "execution_count": 28,
     "metadata": {},
     "output_type": "execute_result"
    }
   ],
   "source": [
    "tokens3"
   ]
  },
  {
   "cell_type": "code",
   "execution_count": 29,
   "id": "c2d37cfc-bddf-4fc0-ab6a-0a8846bb2760",
   "metadata": {},
   "outputs": [],
   "source": [
    "# remove suffixes\n",
    "ps = PorterStemmer()"
   ]
  },
  {
   "cell_type": "code",
   "execution_count": 30,
   "id": "c0a99ccc-7c5f-4cdd-bc80-c041f1167b67",
   "metadata": {},
   "outputs": [],
   "source": [
    "tokens4 = [ps.stem(x) for x in tokens3]"
   ]
  },
  {
   "cell_type": "code",
   "execution_count": 31,
   "id": "adc6f051-84c7-4538-900d-bf8706f99cd0",
   "metadata": {},
   "outputs": [
    {
     "data": {
      "text/plain": [
       "['hello', 'friend', 'like', 'python', 'program']"
      ]
     },
     "execution_count": 31,
     "metadata": {},
     "output_type": "execute_result"
    }
   ],
   "source": [
    "tokens4"
   ]
  },
  {
   "cell_type": "code",
   "execution_count": 32,
   "id": "094dd6f9-b1da-4ace-81b2-cb4faba2b2e7",
   "metadata": {},
   "outputs": [],
   "source": [
    "# define a function for text cleaning\n",
    "def clean_text(sent):\n",
    "    tokens1 = word_tokenize(sent)\n",
    "    tokens2 = [x.lower() for x in tokens1 if x.isalpha()]\n",
    "    tokens3 = [x for x in tokens2 if x not in swords]\n",
    "    tokens4 = [ps.stem(x) for x in tokens3]\n",
    "    return tokens4"
   ]
  },
  {
   "cell_type": "code",
   "execution_count": 33,
   "id": "537c24ec-8c12-45ab-add4-99a0eb21af6d",
   "metadata": {},
   "outputs": [
    {
     "data": {
      "text/plain": [
       "['hello', 'friend', 'like', 'python', 'program']"
      ]
     },
     "execution_count": 33,
     "metadata": {},
     "output_type": "execute_result"
    }
   ],
   "source": [
    "clean_text(sent)"
   ]
  },
  {
   "cell_type": "code",
   "execution_count": 34,
   "id": "a6d3d621-db70-482b-a7f7-65c335593930",
   "metadata": {},
   "outputs": [],
   "source": [
    "new_sent = 'It was the expected result. They told the same on fields.'"
   ]
  },
  {
   "cell_type": "code",
   "execution_count": 35,
   "id": "d50f83e5-8bf8-4288-9bd5-fa52506d70a0",
   "metadata": {},
   "outputs": [
    {
     "data": {
      "text/plain": [
       "['expect', 'result', 'told', 'field']"
      ]
     },
     "execution_count": 35,
     "metadata": {},
     "output_type": "execute_result"
    }
   ],
   "source": [
    "clean_text(new_sent)"
   ]
  },
  {
   "cell_type": "code",
   "execution_count": 36,
   "id": "e42fa7b9-dca2-4f01-a97e-41821873f86e",
   "metadata": {},
   "outputs": [
    {
     "data": {
      "text/plain": [
       "['rank',\n",
       " 'dem',\n",
       " 'hous',\n",
       " 'russia',\n",
       " 'probe',\n",
       " 'explos',\n",
       " 'news',\n",
       " 'trump',\n",
       " 'run',\n",
       " 'scare',\n",
       " 'everybodi',\n",
       " 'still',\n",
       " 'believ',\n",
       " 'democraci',\n",
       " 'true',\n",
       " 'freedom',\n",
       " 'reel',\n",
       " 'fbi',\n",
       " 'director',\n",
       " 'jame',\n",
       " 'comey',\n",
       " 'fire',\n",
       " 'media',\n",
       " 'member',\n",
       " 'congress',\n",
       " 'frantic',\n",
       " 'work',\n",
       " 'get',\n",
       " 'deet',\n",
       " 'happen',\n",
       " 'adam',\n",
       " 'schiff',\n",
       " 'rank',\n",
       " 'member',\n",
       " 'hous',\n",
       " 'intellig',\n",
       " 'committe',\n",
       " 'conduct',\n",
       " 'investig',\n",
       " 'russia',\n",
       " 'drop',\n",
       " 'truth',\n",
       " 'bomb',\n",
       " 'comey',\n",
       " 'trump',\n",
       " 'would',\n",
       " 'wise',\n",
       " 'go',\n",
       " 'find',\n",
       " 'cave',\n",
       " 'hide',\n",
       " 'ask',\n",
       " 'cnn',\n",
       " 'whether',\n",
       " 'believ',\n",
       " 'think',\n",
       " 'someth',\n",
       " 'wors',\n",
       " 'brazen',\n",
       " 'interfer',\n",
       " 'crimin',\n",
       " 'investig',\n",
       " 'presid',\n",
       " 'call',\n",
       " 'whole',\n",
       " 'investig',\n",
       " 'fake',\n",
       " 'fbi',\n",
       " 'director',\n",
       " 'serious',\n",
       " 'look',\n",
       " 'whether',\n",
       " 'trump',\n",
       " 'associ',\n",
       " 'collud',\n",
       " 'russian',\n",
       " 'end',\n",
       " 'statement',\n",
       " 'cnn',\n",
       " 'particularli',\n",
       " 'jar',\n",
       " 'anybodi',\n",
       " 'familiar',\n",
       " 'histori',\n",
       " 'watch',\n",
       " 'adam',\n",
       " 'schiff',\n",
       " 'fire',\n",
       " 'fbi',\n",
       " 'director',\n",
       " 'jame',\n",
       " 'comey',\n",
       " 'brazen',\n",
       " 'interfer',\n",
       " 'crimin',\n",
       " 'investig',\n",
       " 'http',\n",
       " 'cnn',\n",
       " 'cnn',\n",
       " 'may',\n",
       " 'year',\n",
       " 'white',\n",
       " 'hous',\n",
       " 'tri',\n",
       " 'get',\n",
       " 'fbi',\n",
       " 'publicli',\n",
       " 'disput',\n",
       " 'stori',\n",
       " 'appear',\n",
       " 'new',\n",
       " 'york',\n",
       " 'time',\n",
       " 'contact',\n",
       " 'trump',\n",
       " 'associ',\n",
       " 'russian',\n",
       " 'actor',\n",
       " 'tri',\n",
       " 'bend',\n",
       " 'fbi',\n",
       " 'long',\n",
       " 'time',\n",
       " 'comey',\n",
       " 'lie',\n",
       " 'oath',\n",
       " 'end',\n",
       " 'russia',\n",
       " 'probe',\n",
       " 'trump',\n",
       " 'decid',\n",
       " 'fire',\n",
       " 'fact',\n",
       " 'jeff',\n",
       " 'session',\n",
       " 'actual',\n",
       " 'told',\n",
       " 'find',\n",
       " 'reason',\n",
       " 'fire',\n",
       " 'comey',\n",
       " 'work',\n",
       " 'least',\n",
       " 'week',\n",
       " 'trump',\n",
       " 'like',\n",
       " 'want',\n",
       " 'someon',\n",
       " 'posit',\n",
       " 'end',\n",
       " 'investig',\n",
       " 'discov',\n",
       " 'someth',\n",
       " 'realli',\n",
       " 'damn',\n",
       " 'want',\n",
       " 'trump',\n",
       " 'innoc',\n",
       " 'white',\n",
       " 'hous',\n",
       " 'look',\n",
       " 'reason',\n",
       " 'fire',\n",
       " 'comey',\n",
       " 'comey',\n",
       " 'may',\n",
       " 'even',\n",
       " 'fire',\n",
       " 'trump',\n",
       " 'probabl',\n",
       " 'would',\n",
       " 'done',\n",
       " 'took',\n",
       " 'offic',\n",
       " 'guis',\n",
       " 'get',\n",
       " 'fresh',\n",
       " 'start',\n",
       " 'schiff',\n",
       " 'said',\n",
       " 'cnn',\n",
       " 'behavior',\n",
       " 'innoc',\n",
       " 'imag',\n",
       " 'via',\n",
       " 'mark',\n",
       " 'imag']"
      ]
     },
     "execution_count": 36,
     "metadata": {},
     "output_type": "execute_result"
    }
   ],
   "source": [
    "clean_text(features[123])"
   ]
  },
  {
   "cell_type": "markdown",
   "id": "1f9564e0-5eef-4823-a49d-b6c9aaa4755c",
   "metadata": {},
   "source": [
    "##### TF*IDF Vectorization"
   ]
  },
  {
   "cell_type": "code",
   "execution_count": 37,
   "id": "c9c72d07-5814-4c1f-a669-f32b78bf26d5",
   "metadata": {},
   "outputs": [],
   "source": [
    "# import the class\n",
    "from sklearn.feature_extraction.text import TfidfVectorizer"
   ]
  },
  {
   "cell_type": "code",
   "execution_count": 38,
   "id": "9e7d7864-257b-43be-94b0-1166e6fa26f5",
   "metadata": {},
   "outputs": [],
   "source": [
    "# create the object\n",
    "tfidf = TfidfVectorizer(analyzer=clean_text)"
   ]
  },
  {
   "cell_type": "code",
   "execution_count": 39,
   "id": "9f5abeb7-e587-4e6c-93ae-414e1c15590f",
   "metadata": {},
   "outputs": [],
   "source": [
    "# perform the operation\n",
    "features_new = tfidf.fit_transform(features)"
   ]
  },
  {
   "cell_type": "code",
   "execution_count": 40,
   "id": "20bf77c0-10b7-45d1-b7f3-b2907851d7b9",
   "metadata": {},
   "outputs": [
    {
     "data": {
      "text/plain": [
       "(9900, 33562)"
      ]
     },
     "execution_count": 40,
     "metadata": {},
     "output_type": "execute_result"
    }
   ],
   "source": [
    "features_new.shape"
   ]
  },
  {
   "cell_type": "code",
   "execution_count": 41,
   "id": "efce04ba-e2dd-408c-b9cb-daab50357608",
   "metadata": {},
   "outputs": [
    {
     "data": {
      "text/plain": [
       "33562"
      ]
     },
     "execution_count": 41,
     "metadata": {},
     "output_type": "execute_result"
    }
   ],
   "source": [
    "len(tfidf.get_feature_names_out())"
   ]
  },
  {
   "cell_type": "markdown",
   "id": "602bf972-184a-40f4-b918-ee63bf6ea047",
   "metadata": {},
   "source": [
    "#### Cross Validation"
   ]
  },
  {
   "cell_type": "code",
   "execution_count": 42,
   "id": "60f11ba9-ed87-4f93-8686-eefcaf983673",
   "metadata": {},
   "outputs": [],
   "source": [
    "# import the function\n",
    "from sklearn.model_selection import train_test_split"
   ]
  },
  {
   "cell_type": "code",
   "execution_count": 43,
   "id": "ec056e4b-b6c5-474a-a4f7-c01c19d6943b",
   "metadata": {},
   "outputs": [],
   "source": [
    "# perform the cross-validation\n",
    "x_train, x_test, y_train, y_test = train_test_split(features_new, label, random_state=0)"
   ]
  },
  {
   "cell_type": "code",
   "execution_count": 49,
   "id": "63c7ba54-6f06-4e3b-af62-af74a7df4c49",
   "metadata": {},
   "outputs": [
    {
     "data": {
      "text/plain": [
       "(7425, 33562)"
      ]
     },
     "execution_count": 49,
     "metadata": {},
     "output_type": "execute_result"
    }
   ],
   "source": [
    "x_train.shape"
   ]
  },
  {
   "cell_type": "code",
   "execution_count": 50,
   "id": "90b15cdb-e096-4871-b2f8-df54593aef9e",
   "metadata": {},
   "outputs": [
    {
     "data": {
      "text/plain": [
       "(2475, 33562)"
      ]
     },
     "execution_count": 50,
     "metadata": {},
     "output_type": "execute_result"
    }
   ],
   "source": [
    "x_test.shape"
   ]
  },
  {
   "cell_type": "code",
   "execution_count": 51,
   "id": "1e70f47e-e220-4210-a0bd-aa831b30ffa3",
   "metadata": {},
   "outputs": [
    {
     "data": {
      "text/plain": [
       "(7425,)"
      ]
     },
     "execution_count": 51,
     "metadata": {},
     "output_type": "execute_result"
    }
   ],
   "source": [
    "y_train.shape"
   ]
  },
  {
   "cell_type": "code",
   "execution_count": 52,
   "id": "a6f35348-0d74-42ce-9fc9-184f4b82e984",
   "metadata": {},
   "outputs": [
    {
     "data": {
      "text/plain": [
       "(2475,)"
      ]
     },
     "execution_count": 52,
     "metadata": {},
     "output_type": "execute_result"
    }
   ],
   "source": [
    "y_test.shape"
   ]
  },
  {
   "cell_type": "code",
   "execution_count": 53,
   "id": "aa2b2f92-1dab-4118-8c26-53ea47c1bcc5",
   "metadata": {},
   "outputs": [
    {
     "data": {
      "text/plain": [
       "<1x33562 sparse matrix of type '<class 'numpy.float64'>'\n",
       "\twith 72 stored elements in Compressed Sparse Row format>"
      ]
     },
     "execution_count": 53,
     "metadata": {},
     "output_type": "execute_result"
    }
   ],
   "source": [
    "x_train[16]"
   ]
  },
  {
   "cell_type": "code",
   "execution_count": 54,
   "id": "d5a785cc-f492-4c67-be90-04f18d6ecf25",
   "metadata": {},
   "outputs": [
    {
     "data": {
      "text/plain": [
       "'Fake'"
      ]
     },
     "execution_count": 54,
     "metadata": {},
     "output_type": "execute_result"
    }
   ],
   "source": [
    "y_train[16]"
   ]
  },
  {
   "cell_type": "markdown",
   "id": "9f7b73fa-7f92-4264-97c4-47a577282084",
   "metadata": {},
   "source": [
    "##### Build the Decision Tree Algorithm model on the training data"
   ]
  },
  {
   "cell_type": "code",
   "execution_count": 55,
   "id": "d5ad5c1a-c195-4359-b470-a235a16bc3f2",
   "metadata": {},
   "outputs": [],
   "source": [
    "# import the class\n",
    "from sklearn.tree import DecisionTreeClassifier"
   ]
  },
  {
   "cell_type": "code",
   "execution_count": 56,
   "id": "20a52a94-10b7-428e-8569-463a2a70e5c6",
   "metadata": {},
   "outputs": [],
   "source": [
    "# create the object\n",
    "dt = DecisionTreeClassifier(random_state=0)"
   ]
  },
  {
   "cell_type": "code",
   "execution_count": 57,
   "id": "edd77729-2d90-41eb-b213-c66fe8144726",
   "metadata": {},
   "outputs": [
    {
     "data": {
      "text/html": [
       "<style>#sk-container-id-1 {color: black;}#sk-container-id-1 pre{padding: 0;}#sk-container-id-1 div.sk-toggleable {background-color: white;}#sk-container-id-1 label.sk-toggleable__label {cursor: pointer;display: block;width: 100%;margin-bottom: 0;padding: 0.3em;box-sizing: border-box;text-align: center;}#sk-container-id-1 label.sk-toggleable__label-arrow:before {content: \"▸\";float: left;margin-right: 0.25em;color: #696969;}#sk-container-id-1 label.sk-toggleable__label-arrow:hover:before {color: black;}#sk-container-id-1 div.sk-estimator:hover label.sk-toggleable__label-arrow:before {color: black;}#sk-container-id-1 div.sk-toggleable__content {max-height: 0;max-width: 0;overflow: hidden;text-align: left;background-color: #f0f8ff;}#sk-container-id-1 div.sk-toggleable__content pre {margin: 0.2em;color: black;border-radius: 0.25em;background-color: #f0f8ff;}#sk-container-id-1 input.sk-toggleable__control:checked~div.sk-toggleable__content {max-height: 200px;max-width: 100%;overflow: auto;}#sk-container-id-1 input.sk-toggleable__control:checked~label.sk-toggleable__label-arrow:before {content: \"▾\";}#sk-container-id-1 div.sk-estimator input.sk-toggleable__control:checked~label.sk-toggleable__label {background-color: #d4ebff;}#sk-container-id-1 div.sk-label input.sk-toggleable__control:checked~label.sk-toggleable__label {background-color: #d4ebff;}#sk-container-id-1 input.sk-hidden--visually {border: 0;clip: rect(1px 1px 1px 1px);clip: rect(1px, 1px, 1px, 1px);height: 1px;margin: -1px;overflow: hidden;padding: 0;position: absolute;width: 1px;}#sk-container-id-1 div.sk-estimator {font-family: monospace;background-color: #f0f8ff;border: 1px dotted black;border-radius: 0.25em;box-sizing: border-box;margin-bottom: 0.5em;}#sk-container-id-1 div.sk-estimator:hover {background-color: #d4ebff;}#sk-container-id-1 div.sk-parallel-item::after {content: \"\";width: 100%;border-bottom: 1px solid gray;flex-grow: 1;}#sk-container-id-1 div.sk-label:hover label.sk-toggleable__label {background-color: #d4ebff;}#sk-container-id-1 div.sk-serial::before {content: \"\";position: absolute;border-left: 1px solid gray;box-sizing: border-box;top: 0;bottom: 0;left: 50%;z-index: 0;}#sk-container-id-1 div.sk-serial {display: flex;flex-direction: column;align-items: center;background-color: white;padding-right: 0.2em;padding-left: 0.2em;position: relative;}#sk-container-id-1 div.sk-item {position: relative;z-index: 1;}#sk-container-id-1 div.sk-parallel {display: flex;align-items: stretch;justify-content: center;background-color: white;position: relative;}#sk-container-id-1 div.sk-item::before, #sk-container-id-1 div.sk-parallel-item::before {content: \"\";position: absolute;border-left: 1px solid gray;box-sizing: border-box;top: 0;bottom: 0;left: 50%;z-index: -1;}#sk-container-id-1 div.sk-parallel-item {display: flex;flex-direction: column;z-index: 1;position: relative;background-color: white;}#sk-container-id-1 div.sk-parallel-item:first-child::after {align-self: flex-end;width: 50%;}#sk-container-id-1 div.sk-parallel-item:last-child::after {align-self: flex-start;width: 50%;}#sk-container-id-1 div.sk-parallel-item:only-child::after {width: 0;}#sk-container-id-1 div.sk-dashed-wrapped {border: 1px dashed gray;margin: 0 0.4em 0.5em 0.4em;box-sizing: border-box;padding-bottom: 0.4em;background-color: white;}#sk-container-id-1 div.sk-label label {font-family: monospace;font-weight: bold;display: inline-block;line-height: 1.2em;}#sk-container-id-1 div.sk-label-container {text-align: center;}#sk-container-id-1 div.sk-container {/* jupyter's `normalize.less` sets `[hidden] { display: none; }` but bootstrap.min.css set `[hidden] { display: none !important; }` so we also need the `!important` here to be able to override the default hidden behavior on the sphinx rendered scikit-learn.org. See: https://github.com/scikit-learn/scikit-learn/issues/21755 */display: inline-block !important;position: relative;}#sk-container-id-1 div.sk-text-repr-fallback {display: none;}</style><div id=\"sk-container-id-1\" class=\"sk-top-container\"><div class=\"sk-text-repr-fallback\"><pre>DecisionTreeClassifier(random_state=0)</pre><b>In a Jupyter environment, please rerun this cell to show the HTML representation or trust the notebook. <br />On GitHub, the HTML representation is unable to render, please try loading this page with nbviewer.org.</b></div><div class=\"sk-container\" hidden><div class=\"sk-item\"><div class=\"sk-estimator sk-toggleable\"><input class=\"sk-toggleable__control sk-hidden--visually\" id=\"sk-estimator-id-1\" type=\"checkbox\" checked><label for=\"sk-estimator-id-1\" class=\"sk-toggleable__label sk-toggleable__label-arrow\">DecisionTreeClassifier</label><div class=\"sk-toggleable__content\"><pre>DecisionTreeClassifier(random_state=0)</pre></div></div></div></div></div>"
      ],
      "text/plain": [
       "DecisionTreeClassifier(random_state=0)"
      ]
     },
     "execution_count": 57,
     "metadata": {},
     "output_type": "execute_result"
    }
   ],
   "source": [
    "# train the algorithm\n",
    "dt.fit(x_train, y_train)"
   ]
  },
  {
   "cell_type": "code",
   "execution_count": 58,
   "id": "6bbe525d-46da-44d7-9163-c3c74497b40b",
   "metadata": {},
   "outputs": [],
   "source": [
    "from sklearn.tree import plot_tree"
   ]
  },
  {
   "cell_type": "code",
   "execution_count": 68,
   "id": "49858fd2-f91c-47a9-ba19-b02dc255d4f2",
   "metadata": {},
   "outputs": [
    {
     "data": {
      "image/png": "[encoded data removed]",
      "text/plain": [
       "<Figure size 1200x800 with 1 Axes>"
      ]
     },
     "metadata": {},
     "output_type": "display_data"
    }
   ],
   "source": [
    "plt.figure(figsize=(12,8))\n",
    "plot_tree(dt, fontsize=7);"
   ]
  },
  {
   "cell_type": "code",
   "execution_count": 73,
   "id": "26cb2ca0-6a8c-43a4-a5e7-ae76f55906d2",
   "metadata": {},
   "outputs": [
    {
     "data": {
      "text/plain": [
       "'factbox'"
      ]
     },
     "execution_count": 73,
     "metadata": {},
     "output_type": "execute_result"
    }
   ],
   "source": [
    "tfidf.get_feature_names_out()[9696]"
   ]
  },
  {
   "cell_type": "markdown",
   "id": "018e22b4-5b48-4900-b44f-edf268459224",
   "metadata": {},
   "source": [
    "##### Performance Evaluation"
   ]
  },
  {
   "cell_type": "code",
   "execution_count": 74,
   "id": "b879d652-8080-43c1-9a02-3585d0e27d2e",
   "metadata": {},
   "outputs": [],
   "source": [
    "# predict the result on test data\n",
    "y_pred = dt.predict(x_test)"
   ]
  },
  {
   "cell_type": "code",
   "execution_count": 75,
   "id": "af858ed0-d056-4d1f-9e64-52c579118620",
   "metadata": {},
   "outputs": [
    {
     "data": {
      "text/plain": [
       "array(['Fake', 'Fake', 'Fake', ..., 'Fake', 'Fake', 'Fake'], dtype=object)"
      ]
     },
     "execution_count": 75,
     "metadata": {},
     "output_type": "execute_result"
    }
   ],
   "source": [
    "# algorithm predicted data\n",
    "y_pred"
   ]
  },
  {
   "cell_type": "code",
   "execution_count": 76,
   "id": "32f91494-52f6-43b6-bb04-457ef6a6fce3",
   "metadata": {},
   "outputs": [
    {
     "data": {
      "text/plain": [
       "2475"
      ]
     },
     "execution_count": 76,
     "metadata": {},
     "output_type": "execute_result"
    }
   ],
   "source": [
    "len(y_pred)"
   ]
  },
  {
   "cell_type": "code",
   "execution_count": 77,
   "id": "4fba1bb9-eda2-4dfc-943e-05be2cb787aa",
   "metadata": {},
   "outputs": [
    {
     "data": {
      "text/plain": [
       "6688    Fake\n",
       "5766    Fake\n",
       "6335    Fake\n",
       "5857    Real\n",
       "7323    Real\n",
       "        ... \n",
       "14      Real\n",
       "5489    Real\n",
       "6953    Fake\n",
       "6780    Fake\n",
       "6727    Fake\n",
       "Name: label, Length: 2475, dtype: object"
      ]
     },
     "execution_count": 77,
     "metadata": {},
     "output_type": "execute_result"
    }
   ],
   "source": [
    "y_test"
   ]
  },
  {
   "cell_type": "code",
   "execution_count": 79,
   "id": "b51e493e-d2cb-4184-bfff-b9a94331ea0b",
   "metadata": {},
   "outputs": [],
   "source": [
    "# import the class\n",
    "from sklearn.metrics import ConfusionMatrixDisplay"
   ]
  },
  {
   "cell_type": "code",
   "execution_count": 80,
   "id": "05f2ce56-1289-4115-9152-d2328c0fca73",
   "metadata": {},
   "outputs": [
    {
     "data": {
      "image/png": "[encoded data removed]",
      "text/plain": [
       "<Figure size 640x480 with 2 Axes>"
      ]
     },
     "metadata": {},
     "output_type": "display_data"
    }
   ],
   "source": [
    "# show the matrix\n",
    "ConfusionMatrixDisplay.from_predictions(y_test, y_pred);"
   ]
  },
  {
   "cell_type": "code",
   "execution_count": 81,
   "id": "681c4b2f-287f-4408-8da4-81d88b061c13",
   "metadata": {},
   "outputs": [
    {
     "data": {
      "text/plain": [
       "0.9971717171717172"
      ]
     },
     "execution_count": 81,
     "metadata": {},
     "output_type": "execute_result"
    }
   ],
   "source": [
    "(1269+1199) / 2475"
   ]
  },
  {
   "cell_type": "code",
   "execution_count": 82,
   "id": "81a9fcd6-7d3a-4d82-8804-b9d301d42aa0",
   "metadata": {},
   "outputs": [
    {
     "data": {
      "text/plain": [
       "0.9968578161822467"
      ]
     },
     "execution_count": 82,
     "metadata": {},
     "output_type": "execute_result"
    }
   ],
   "source": [
    "# Fake class\n",
    "1269 / 1273"
   ]
  },
  {
   "cell_type": "code",
   "execution_count": 83,
   "id": "6efc6b6c-6901-4166-bbdc-7e3ffd924813",
   "metadata": {},
   "outputs": [
    {
     "data": {
      "text/plain": [
       "0.997504159733777"
      ]
     },
     "execution_count": 83,
     "metadata": {},
     "output_type": "execute_result"
    }
   ],
   "source": [
    "# Real class\n",
    "1199 / 1202"
   ]
  },
  {
   "cell_type": "markdown",
   "id": "2bee7d00-6b04-4718-ba1e-9f2275d84204",
   "metadata": {},
   "source": [
    "##### Prediction on unseen new news"
   ]
  },
  {
   "cell_type": "code",
   "execution_count": 90,
   "id": "6ed7ca21-694b-41c7-9eba-74075e032efb",
   "metadata": {},
   "outputs": [],
   "source": [
    "f = open('sample_news.txt', encoding='utf-8')"
   ]
  },
  {
   "cell_type": "code",
   "execution_count": 91,
   "id": "3af64fde-de93-483e-937a-92a56920d000",
   "metadata": {},
   "outputs": [],
   "source": [
    "news = f.readlines()"
   ]
  },
  {
   "cell_type": "code",
   "execution_count": 92,
   "id": "3f858664-ad1b-4958-9e64-04150b97f7b4",
   "metadata": {},
   "outputs": [
    {
     "data": {
      "text/plain": [
       "['\" Donald Trump’s ‘Charity’ Foundation Is About To Be Shut The F**k Down NATIONWIDE Things really aren t looking too great for Donald Trump s charity foundation. With recent developments prohibiting the Trump Foundation from soliciting funds in New York state, it s now looking like a good majority of states may be following suit.The Trump Foundation has also been being looked at by the Attorney General for how it is getting and spending funds, especially after what happen with veterans organizations earlier this year.According to The Daily Beast: To make matters worse for the Trump Foundation, the probe may not be limited to New York: Charity experts and lawyers tell The Daily Beast that the attorneys general of other states may soon get involved in a long, drawn-out process.All major charities are required to register with 41 different states across the nation in order to individually request permission to fundraise. When Trump raised money for veterans, he may have broken the rules in dozens of states. The president of the National Committee for Responsible Philanthropy, Aaron Dorfman, stated: The Trump Foundation would be required to file similar paperwork with the attorneys generals of nearly every other state, and they could all take similar action. It is likely that other states will follow suit and they will be issued cease and desist orders denying them fundraising privileges in other states. That is the most likely next step. This is not good news for Trump who keeps trying to pivot to slamming Hillary Clinton s Clinton Foundation. You know, the one that helps fight AIDS in nations globally.Trump, of course, likes to pretend that he s holier than thou, which might explain why Trump Foundation money was used to buy pictures of, well, himself.And according to Real Clear Politics: From 2011 through 2014, Trump harnessed his eponymous foundation to send at least $286,000 to influential conservative or policy groups, a RealClearPolitics review of the foundation s tax filings found. In many cases, this flow of money corresponded to prime speaking slots or endorsements that aided Trump as he sought to recast himself as a plausible Republican candidate for president. Finding out Trump is a scam artist using a shell charity with his same name really should come as no surprise. Especially to fund his political ambitions of grandeur. However, it will be interesting to see how this story develops as the November election draws nearer.Featured Photo by Scott Olson/Getty Images\"\\n',\n",
       " '\"U.S. environmental agency chief says humans contribute to global warming WASHINGTON (Reuters) - The head of the U.S. Environmental Protection Agency, Scott Pruitt, said on Friday he believes human activity plays a role in global warming, but measuring that contribution with precision is difficult. Speaking to reporters at the White House a day after President Donald Trump said he would withdraw the United States  from the Paris climate accord, Pruitt declined to directly answer questions about whether the president still believed global warming was a hoax, as he had said during the 2016 presidential campaign Pruitt said he had indicated that global warming is occurring, and that “human activity contributes to it in some manner. Measuring with precision, from my perspective, the degree of human contribution is very challenging.” \"\\n',\n",
       " '\" Golden State Warriors Coach Just WRECKED Trump After Attack On One Of His Players On Saturday, the man we re forced to call  President  Trump responded to Golden State Warriors star Stephen Curry s refusal to accept an invitation to the White House by doing the internet equivalent of incoherently screeching  WELL FINE,  YOU RE NOT INVITED ANYWAY. Going to the White House is considered a great honor for a championship team.Stephen Curry is hesitating,therefore invitation is withdrawn!  Donald J. Trump (@realDonaldTrump) September 23, 2017Unfortunately for Trump, Warriors coach Steve Kerr has Curry s back. The idea of civil discourse with a guy who is tweeting and demeaning people and saying the things he s saying is sort of far-fetched,  Kerr said on Sunday.  Can you picture us really having a civil discourse with him? It was an actual chance to talk to the president,  he said.  After all, he works for us. He s a public servant. He may not be aware of that, but he is a public servant, right? So maybe as NBA champions, as people in a prominent position, we could go in and say,  This is what s bothering us, what can we do about this?\\'  Then he laid in to Trump for attacking black football players for exercising their First Amendment rights while calling Nazis  very fine people: How about the irony of  Free speech is fine if you re a neo-Nazi chanting hate slogans, but free speech is not allowed to kneel in protest?  No matter how many times a football player says,  I honor our military, but I m protesting police brutality and racial inequality,  it doesn t matter. Nationalists are saying,  You re disrespecting our flag.  Well, you know what else is disrespectful to our flag? Racism. And one s way worse than the other. Trump is a constant embarrassment to our country.Watch Kerr rip him apart below:Featured image via video screen capture\"\\n']"
      ]
     },
     "execution_count": 92,
     "metadata": {},
     "output_type": "execute_result"
    }
   ],
   "source": [
    "news"
   ]
  },
  {
   "cell_type": "code",
   "execution_count": 93,
   "id": "5980f18b-3416-4a5b-adef-7b69234d84f4",
   "metadata": {},
   "outputs": [
    {
     "data": {
      "text/plain": [
       "<3x33562 sparse matrix of type '<class 'numpy.float64'>'\n",
       "\twith 325 stored elements in Compressed Sparse Row format>"
      ]
     },
     "execution_count": 93,
     "metadata": {},
     "output_type": "execute_result"
    }
   ],
   "source": [
    "tfidf.transform(news)"
   ]
  },
  {
   "cell_type": "code",
   "execution_count": 94,
   "id": "5af17aa9-4828-45aa-847d-d14979037552",
   "metadata": {},
   "outputs": [
    {
     "data": {
      "text/plain": [
       "array(['Fake', 'Real', 'Fake'], dtype=object)"
      ]
     },
     "execution_count": 94,
     "metadata": {},
     "output_type": "execute_result"
    }
   ],
   "source": [
    "dt.predict(tfidf.transform(news))"
   ]
  },
  {
   "cell_type": "code",
   "execution_count": 95,
   "id": "3c18d951-5e08-49b6-b5e4-c89fb9ded141",
   "metadata": {},
   "outputs": [
    {
     "data": {
      "text/plain": [
       "3"
      ]
     },
     "execution_count": 95,
     "metadata": {},
     "output_type": "execute_result"
    }
   ],
   "source": [
    "len(news)"
   ]
  },
  {
   "cell_type": "code",
   "execution_count": null,
   "id": "cf9199a5-23ce-47a6-b587-ca5c0a383dde",
   "metadata": {},
   "outputs": [],
   "source": []
  }
 ],
 "metadata": {
  "kernelspec": {
   "display_name": "Python 3 (ipykernel)",
   "language": "python",
   "name": "python3"
  },
  "language_info": {
   "codemirror_mode": {
    "name": "ipython",
    "version": 3
   },
   "file_extension": ".py",
   "mimetype": "text/x-python",
   "name": "python",
   "nbconvert_exporter": "python",
   "pygments_lexer": "ipython3",
   "version": "3.10.12"
  }
 },
 "nbformat": 4,
 "nbformat_minor": 5
}
