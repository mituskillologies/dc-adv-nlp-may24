{
 "cells": [
  {
   "cell_type": "markdown",
   "id": "f6f3d1c5-75b5-4c8e-b6a3-02c821ecccb5",
   "metadata": {},
   "source": [
    "##### Dataset"
   ]
  },
  {
   "cell_type": "code",
   "execution_count": 1,
   "id": "1d6d2968-4c1f-4cd9-8434-46911c412dc6",
   "metadata": {},
   "outputs": [],
   "source": [
    "# Name: SMSSpamCollection\n",
    "# Location: https://mitu.co.in/dataset"
   ]
  },
  {
   "cell_type": "markdown",
   "id": "b545e7a0-cc90-438c-a71b-750ff84b37ab",
   "metadata": {},
   "source": [
    "##### Import the libraries"
   ]
  },
  {
   "cell_type": "code",
   "execution_count": 2,
   "id": "f3d70275-eadd-4c09-8b96-1bd43bae0810",
   "metadata": {},
   "outputs": [],
   "source": [
    "import pandas as pd\n",
    "import seaborn as sns"
   ]
  },
  {
   "cell_type": "markdown",
   "id": "1d32699d-d1ea-48c9-9ccc-9206d93882a2",
   "metadata": {},
   "source": [
    "##### Read the data"
   ]
  },
  {
   "cell_type": "code",
   "execution_count": 3,
   "id": "fd3149df-97ee-4def-be87-d0e5191961a4",
   "metadata": {},
   "outputs": [],
   "source": [
    "df = pd.read_csv('SMSSpamCollection', sep='\\t', names=['label','text'])"
   ]
  },
  {
   "cell_type": "code",
   "execution_count": 4,
   "id": "322beaeb-20c5-419c-808c-df0734277cdc",
   "metadata": {},
   "outputs": [
    {
     "data": {
      "text/html": [
       "<div>\n",
       "<style scoped>\n",
       "    .dataframe tbody tr th:only-of-type {\n",
       "        vertical-align: middle;\n",
       "    }\n",
       "\n",
       "    .dataframe tbody tr th {\n",
       "        vertical-align: top;\n",
       "    }\n",
       "\n",
       "    .dataframe thead th {\n",
       "        text-align: right;\n",
       "    }\n",
       "</style>\n",
       "<table border=\"1\" class=\"dataframe\">\n",
       "  <thead>\n",
       "    <tr style=\"text-align: right;\">\n",
       "      <th></th>\n",
       "      <th>label</th>\n",
       "      <th>text</th>\n",
       "    </tr>\n",
       "  </thead>\n",
       "  <tbody>\n",
       "    <tr>\n",
       "      <th>0</th>\n",
       "      <td>ham</td>\n",
       "      <td>Go until jurong point, crazy.. Available only ...</td>\n",
       "    </tr>\n",
       "    <tr>\n",
       "      <th>1</th>\n",
       "      <td>ham</td>\n",
       "      <td>Ok lar... Joking wif u oni...</td>\n",
       "    </tr>\n",
       "    <tr>\n",
       "      <th>2</th>\n",
       "      <td>spam</td>\n",
       "      <td>Free entry in 2 a wkly comp to win FA Cup fina...</td>\n",
       "    </tr>\n",
       "    <tr>\n",
       "      <th>3</th>\n",
       "      <td>ham</td>\n",
       "      <td>U dun say so early hor... U c already then say...</td>\n",
       "    </tr>\n",
       "    <tr>\n",
       "      <th>4</th>\n",
       "      <td>ham</td>\n",
       "      <td>Nah I don't think he goes to usf, he lives aro...</td>\n",
       "    </tr>\n",
       "    <tr>\n",
       "      <th>...</th>\n",
       "      <td>...</td>\n",
       "      <td>...</td>\n",
       "    </tr>\n",
       "    <tr>\n",
       "      <th>5567</th>\n",
       "      <td>spam</td>\n",
       "      <td>This is the 2nd time we have tried 2 contact u...</td>\n",
       "    </tr>\n",
       "    <tr>\n",
       "      <th>5568</th>\n",
       "      <td>ham</td>\n",
       "      <td>Will ü b going to esplanade fr home?</td>\n",
       "    </tr>\n",
       "    <tr>\n",
       "      <th>5569</th>\n",
       "      <td>ham</td>\n",
       "      <td>Pity, * was in mood for that. So...any other s...</td>\n",
       "    </tr>\n",
       "    <tr>\n",
       "      <th>5570</th>\n",
       "      <td>ham</td>\n",
       "      <td>The guy did some bitching but I acted like i'd...</td>\n",
       "    </tr>\n",
       "    <tr>\n",
       "      <th>5571</th>\n",
       "      <td>ham</td>\n",
       "      <td>Rofl. Its true to its name</td>\n",
       "    </tr>\n",
       "  </tbody>\n",
       "</table>\n",
       "<p>5572 rows × 2 columns</p>\n",
       "</div>"
      ],
      "text/plain": [
       "     label                                               text\n",
       "0      ham  Go until jurong point, crazy.. Available only ...\n",
       "1      ham                      Ok lar... Joking wif u oni...\n",
       "2     spam  Free entry in 2 a wkly comp to win FA Cup fina...\n",
       "3      ham  U dun say so early hor... U c already then say...\n",
       "4      ham  Nah I don't think he goes to usf, he lives aro...\n",
       "...    ...                                                ...\n",
       "5567  spam  This is the 2nd time we have tried 2 contact u...\n",
       "5568   ham               Will ü b going to esplanade fr home?\n",
       "5569   ham  Pity, * was in mood for that. So...any other s...\n",
       "5570   ham  The guy did some bitching but I acted like i'd...\n",
       "5571   ham                         Rofl. Its true to its name\n",
       "\n",
       "[5572 rows x 2 columns]"
      ]
     },
     "execution_count": 4,
     "metadata": {},
     "output_type": "execute_result"
    }
   ],
   "source": [
    "df"
   ]
  },
  {
   "cell_type": "markdown",
   "id": "9930b33e-c17c-463d-bf54-37cc5d75c5a2",
   "metadata": {},
   "source": [
    "##### Separate the input and output data"
   ]
  },
  {
   "cell_type": "code",
   "execution_count": 5,
   "id": "d0df7c5d-513a-4a39-baba-c23ea32454d3",
   "metadata": {},
   "outputs": [],
   "source": [
    "# input data\n",
    "x = df['text']\n",
    "y = df['label']"
   ]
  },
  {
   "cell_type": "code",
   "execution_count": 6,
   "id": "1416b6a8-b049-469b-af36-50aae4d860e1",
   "metadata": {},
   "outputs": [
    {
     "data": {
      "image/png": "[encoded data removed]",
      "text/plain": [
       "<Figure size 640x480 with 1 Axes>"
      ]
     },
     "metadata": {},
     "output_type": "display_data"
    }
   ],
   "source": [
    "sns.countplot(x = y);"
   ]
  },
  {
   "cell_type": "code",
   "execution_count": 7,
   "id": "6b359b43-8e1e-4a6f-b5e3-3ec3a314ae27",
   "metadata": {},
   "outputs": [
    {
     "name": "stdout",
     "output_type": "stream",
     "text": [
      "Defaulting to user installation because normal site-packages is not writeable\n",
      "Requirement already satisfied: imbalanced-learn in /home/mitu/.local/lib/python3.10/site-packages (0.12.0)\n",
      "Requirement already satisfied: numpy>=1.17.3 in /usr/local/lib/python3.10/dist-packages (from imbalanced-learn) (1.26.3)\n",
      "Requirement already satisfied: scipy>=1.5.0 in /usr/local/lib/python3.10/dist-packages (from imbalanced-learn) (1.11.4)\n",
      "Requirement already satisfied: scikit-learn>=1.0.2 in /usr/local/lib/python3.10/dist-packages (from imbalanced-learn) (1.3.2)\n",
      "Requirement already satisfied: joblib>=1.1.1 in /usr/local/lib/python3.10/dist-packages (from imbalanced-learn) (1.3.2)\n",
      "Requirement already satisfied: threadpoolctl>=2.0.0 in /usr/local/lib/python3.10/dist-packages (from imbalanced-learn) (3.2.0)\n",
      "Note: you may need to restart the kernel to use updated packages.\n"
     ]
    }
   ],
   "source": [
    "pip install imbalanced-learn"
   ]
  },
  {
   "cell_type": "markdown",
   "id": "7e265406-e53b-4192-8ed9-443ebdf5a366",
   "metadata": {},
   "source": [
    "#### Data Preparation"
   ]
  },
  {
   "cell_type": "markdown",
   "id": "e8c9a025-5daf-4f4b-9ac2-32df52696963",
   "metadata": {},
   "source": [
    "##### Data Cleaning"
   ]
  },
  {
   "cell_type": "code",
   "execution_count": 8,
   "id": "f37154cd-c658-4a50-9d70-06781cdeb2c9",
   "metadata": {},
   "outputs": [],
   "source": [
    "from nltk.tokenize import word_tokenize\n",
    "from nltk.corpus import stopwords"
   ]
  },
  {
   "cell_type": "code",
   "execution_count": 9,
   "id": "f70d4867-dbd8-45cc-be10-eccc8a0eab58",
   "metadata": {},
   "outputs": [],
   "source": [
    "swords = stopwords.words('english')"
   ]
  },
  {
   "cell_type": "code",
   "execution_count": 10,
   "id": "78f72ae3-55ab-4767-bafd-c5cce86dfb88",
   "metadata": {},
   "outputs": [],
   "source": [
    "# define a function for text cleaning\n",
    "def clean_text(sent):\n",
    "    tokens1 = word_tokenize(sent)\n",
    "    tokens2 = [x.lower() for x in tokens1 if x.isalpha()]\n",
    "    tokens3 = [x for x in tokens2 if x not in swords]\n",
    "    return tokens3"
   ]
  },
  {
   "cell_type": "code",
   "execution_count": 11,
   "id": "c7bffdfe-67ca-488c-9e70-d5a92665c86f",
   "metadata": {},
   "outputs": [],
   "source": [
    "new_sent = 'It was the expected result. They told the same on fields.'"
   ]
  },
  {
   "cell_type": "code",
   "execution_count": 12,
   "id": "632cc2f6-886b-4ea4-9074-c6413c60a578",
   "metadata": {},
   "outputs": [
    {
     "data": {
      "text/plain": [
       "['expected', 'result', 'told', 'fields']"
      ]
     },
     "execution_count": 12,
     "metadata": {},
     "output_type": "execute_result"
    }
   ],
   "source": [
    "clean_text(new_sent)"
   ]
  },
  {
   "cell_type": "markdown",
   "id": "d2222bd1-be3b-4ebe-8ef6-20d735706cc4",
   "metadata": {},
   "source": [
    "##### TF*IDF Vectorization"
   ]
  },
  {
   "cell_type": "code",
   "execution_count": 13,
   "id": "3c631aa8-542e-49ce-8a10-702904c36263",
   "metadata": {},
   "outputs": [],
   "source": [
    "# import the class\n",
    "from sklearn.feature_extraction.text import TfidfVectorizer"
   ]
  },
  {
   "cell_type": "code",
   "execution_count": 14,
   "id": "056ff087-d62c-4bac-9467-5f2240a7bfb3",
   "metadata": {},
   "outputs": [],
   "source": [
    "# create the object\n",
    "tfidf = TfidfVectorizer(analyzer=clean_text)"
   ]
  },
  {
   "cell_type": "code",
   "execution_count": 15,
   "id": "7bde38e8-272e-43b6-8ee0-9ba55ab2df02",
   "metadata": {},
   "outputs": [],
   "source": [
    "# perform the operation\n",
    "x_new = tfidf.fit_transform(x)"
   ]
  },
  {
   "cell_type": "code",
   "execution_count": 16,
   "id": "1757c578-2cbc-4815-9b16-390b8807169e",
   "metadata": {},
   "outputs": [
    {
     "data": {
      "text/plain": [
       "(5572, 7217)"
      ]
     },
     "execution_count": 16,
     "metadata": {},
     "output_type": "execute_result"
    }
   ],
   "source": [
    "x_new.shape"
   ]
  },
  {
   "cell_type": "code",
   "execution_count": 17,
   "id": "bdccf70c-59dd-4246-af27-6d302d0bf043",
   "metadata": {},
   "outputs": [
    {
     "data": {
      "text/plain": [
       "0       Go until jurong point, crazy.. Available only ...\n",
       "1                           Ok lar... Joking wif u oni...\n",
       "2       Free entry in 2 a wkly comp to win FA Cup fina...\n",
       "3       U dun say so early hor... U c already then say...\n",
       "4       Nah I don't think he goes to usf, he lives aro...\n",
       "                              ...                        \n",
       "5567    This is the 2nd time we have tried 2 contact u...\n",
       "5568                 Will ü b going to esplanade fr home?\n",
       "5569    Pity, * was in mood for that. So...any other s...\n",
       "5570    The guy did some bitching but I acted like i'd...\n",
       "5571                           Rofl. Its true to its name\n",
       "Name: text, Length: 5572, dtype: object"
      ]
     },
     "execution_count": 17,
     "metadata": {},
     "output_type": "execute_result"
    }
   ],
   "source": [
    "x"
   ]
  },
  {
   "cell_type": "code",
   "execution_count": 18,
   "id": "0b176f25-93af-4dbc-a548-9b4b170ffaad",
   "metadata": {},
   "outputs": [
    {
     "data": {
      "text/plain": [
       "0        ham\n",
       "1        ham\n",
       "2       spam\n",
       "3        ham\n",
       "4        ham\n",
       "        ... \n",
       "5567    spam\n",
       "5568     ham\n",
       "5569     ham\n",
       "5570     ham\n",
       "5571     ham\n",
       "Name: label, Length: 5572, dtype: object"
      ]
     },
     "execution_count": 18,
     "metadata": {},
     "output_type": "execute_result"
    }
   ],
   "source": [
    "y"
   ]
  },
  {
   "cell_type": "markdown",
   "id": "be05229f-c1ac-4399-bbd7-41e261614534",
   "metadata": {},
   "source": [
    "##### Encoding of output variable"
   ]
  },
  {
   "cell_type": "code",
   "execution_count": 19,
   "id": "9d12df40-f2ee-42e7-8fdd-470c07cdf16c",
   "metadata": {},
   "outputs": [],
   "source": [
    "# import the class\n",
    "from sklearn.preprocessing import LabelEncoder"
   ]
  },
  {
   "cell_type": "code",
   "execution_count": 20,
   "id": "25361a36-b03f-453f-86ad-9e4e997ca7cc",
   "metadata": {},
   "outputs": [],
   "source": [
    "# create the object\n",
    "le = LabelEncoder()"
   ]
  },
  {
   "cell_type": "code",
   "execution_count": 21,
   "id": "804b07ed-c6ab-4f5f-9d0c-bda9e78e8cff",
   "metadata": {},
   "outputs": [],
   "source": [
    "# apply the encoding\n",
    "y_new = le.fit_transform(y)"
   ]
  },
  {
   "cell_type": "code",
   "execution_count": 22,
   "id": "ee9161e0-2af4-435e-af9d-a0797060af16",
   "metadata": {},
   "outputs": [
    {
     "data": {
      "text/plain": [
       "array([0, 0, 1, ..., 0, 0, 0])"
      ]
     },
     "execution_count": 22,
     "metadata": {},
     "output_type": "execute_result"
    }
   ],
   "source": [
    "y_new"
   ]
  },
  {
   "cell_type": "code",
   "execution_count": 23,
   "id": "f99b156c-cf5d-4c3c-a30a-2552c5f3dea9",
   "metadata": {},
   "outputs": [
    {
     "data": {
      "text/plain": [
       "array(['ham', 'spam'], dtype=object)"
      ]
     },
     "execution_count": 23,
     "metadata": {},
     "output_type": "execute_result"
    }
   ],
   "source": [
    "le.classes_"
   ]
  },
  {
   "cell_type": "code",
   "execution_count": 24,
   "id": "f502d25e-42fc-4402-92b5-bbcc9c51e384",
   "metadata": {},
   "outputs": [
    {
     "data": {
      "text/plain": [
       "array(['spam'], dtype=object)"
      ]
     },
     "execution_count": 24,
     "metadata": {},
     "output_type": "execute_result"
    }
   ],
   "source": [
    "le.inverse_transform([1])"
   ]
  },
  {
   "cell_type": "markdown",
   "id": "c03d9fb0-d7b3-496d-b61f-9d617547f060",
   "metadata": {},
   "source": [
    "##### Cross Validation"
   ]
  },
  {
   "cell_type": "code",
   "execution_count": 25,
   "id": "52bc6e55-bd15-46ec-afb2-9daad273af9f",
   "metadata": {},
   "outputs": [],
   "source": [
    "from sklearn.model_selection import train_test_split"
   ]
  },
  {
   "cell_type": "code",
   "execution_count": 26,
   "id": "b0037dc2-5add-427f-8e49-86ccd1488d04",
   "metadata": {},
   "outputs": [],
   "source": [
    "x_train, x_test, y_train, y_test = train_test_split(x_new, y_new, random_state=0)"
   ]
  },
  {
   "cell_type": "code",
   "execution_count": 27,
   "id": "8ddb4b77-f40f-41e5-8b34-4c7f5e9b962f",
   "metadata": {},
   "outputs": [
    {
     "data": {
      "text/plain": [
       "(4179, 7217)"
      ]
     },
     "execution_count": 27,
     "metadata": {},
     "output_type": "execute_result"
    }
   ],
   "source": [
    "x_train.shape"
   ]
  },
  {
   "cell_type": "code",
   "execution_count": 28,
   "id": "c26f8275-f59d-49d5-9bef-611b6335be17",
   "metadata": {},
   "outputs": [
    {
     "data": {
      "text/plain": [
       "(1393, 7217)"
      ]
     },
     "execution_count": 28,
     "metadata": {},
     "output_type": "execute_result"
    }
   ],
   "source": [
    "x_test.shape"
   ]
  },
  {
   "cell_type": "markdown",
   "id": "4171abf1-4431-4684-8a6b-86693a37385a",
   "metadata": {},
   "source": [
    "##### Define the neural network model"
   ]
  },
  {
   "cell_type": "code",
   "execution_count": 43,
   "id": "efb19f6d-e39b-4071-912b-2b424a7d3aec",
   "metadata": {},
   "outputs": [],
   "source": [
    "from keras.models import Sequential\n",
    "from keras.layers import Dense"
   ]
  },
  {
   "cell_type": "code",
   "execution_count": 30,
   "id": "68b14fff-acc0-411b-af60-5e4375d3ded6",
   "metadata": {},
   "outputs": [],
   "source": [
    "# create the object of NN model\n",
    "model = Sequential()\n",
    "\n",
    "# create first / input layer\n",
    "layer1 = Dense(64, input_shape=(7217,), activation='relu')\n",
    "model.add(layer1)\n",
    "\n",
    "# create hidden layer\n",
    "layer2 = Dense(128, activation='relu')\n",
    "model.add(layer2)\n",
    "\n",
    "# create the output layer\n",
    "layer3 = Dense(1, activation='sigmoid') \n",
    "# multiclass: activation- softmax, number of neurons = number of classes\n",
    "model.add(layer3)"
   ]
  },
  {
   "cell_type": "code",
   "execution_count": 31,
   "id": "ee3354b1-1378-4570-823a-dcc1d34bf4dc",
   "metadata": {},
   "outputs": [
    {
     "name": "stdout",
     "output_type": "stream",
     "text": [
      "Model: \"sequential\"\n",
      "_________________________________________________________________\n",
      " Layer (type)                Output Shape              Param #   \n",
      "=================================================================\n",
      " dense (Dense)               (None, 64)                461952    \n",
      "                                                                 \n",
      " dense_1 (Dense)             (None, 128)               8320      \n",
      "                                                                 \n",
      " dense_2 (Dense)             (None, 1)                 129       \n",
      "                                                                 \n",
      "=================================================================\n",
      "Total params: 470401 (1.79 MB)\n",
      "Trainable params: 470401 (1.79 MB)\n",
      "Non-trainable params: 0 (0.00 Byte)\n",
      "_________________________________________________________________\n"
     ]
    }
   ],
   "source": [
    "model.summary()"
   ]
  },
  {
   "cell_type": "markdown",
   "id": "ee779542-1801-4c5c-b65b-93f9d80fc35e",
   "metadata": {},
   "source": [
    "##### Visualize the model"
   ]
  },
  {
   "cell_type": "code",
   "execution_count": 32,
   "id": "a3cebe30-f6e6-4068-b309-fc7bcfaf9695",
   "metadata": {},
   "outputs": [],
   "source": [
    "from keras.utils import plot_model"
   ]
  },
  {
   "cell_type": "code",
   "execution_count": 35,
   "id": "e667a4fa-3ff7-42ea-98ec-7b3e9ee896c7",
   "metadata": {},
   "outputs": [
    {
     "data": {
      "image/png": "[encoded data removed]",
      "text/plain": [
       "<IPython.core.display.Image object>"
      ]
     },
     "execution_count": 35,
     "metadata": {},
     "output_type": "execute_result"
    }
   ],
   "source": [
    "plot_model(model, show_dtype=True, show_layer_activations=True, show_layer_names=True,\n",
    "          show_shapes=True)"
   ]
  },
  {
   "cell_type": "code",
   "execution_count": 64,
   "id": "17d7aae6-d645-4a85-89f0-0ca592d85a81",
   "metadata": {},
   "outputs": [
    {
     "name": "stdout",
     "output_type": "stream",
     "text": [
      "Defaulting to user installation because normal site-packages is not writeable\n",
      "Requirement already satisfied: pydot in /home/mitu/.local/lib/python3.10/site-packages (2.0.0)\n",
      "Collecting graphviz\n",
      "  Downloading graphviz-0.20.3-py3-none-any.whl.metadata (12 kB)\n",
      "Requirement already satisfied: pyparsing>=3 in /home/mitu/.local/lib/python3.10/site-packages (from pydot) (3.1.2)\n",
      "Downloading graphviz-0.20.3-py3-none-any.whl (47 kB)\n",
      "\u001b[2K   \u001b[38;2;114;156;31m━━━━━━━━━━━━━━━━━━━━━━━━━━━━━━━━━━━━━━━━\u001b[0m \u001b[32m47.1/47.1 kB\u001b[0m \u001b[31m877.6 kB/s\u001b[0m eta \u001b[36m0:00:00\u001b[0mB/s\u001b[0m eta \u001b[36m0:00:01\u001b[0m\n",
      "\u001b[?25hInstalling collected packages: graphviz\n",
      "Successfully installed graphviz-0.20.3\n",
      "Note: you may need to restart the kernel to use updated packages.\n"
     ]
    }
   ],
   "source": [
    "pip install pydot graphviz"
   ]
  },
  {
   "cell_type": "markdown",
   "id": "54d87cfa-3ee6-43a8-a74b-3626c870bf50",
   "metadata": {},
   "source": [
    "##### Compile the model"
   ]
  },
  {
   "cell_type": "code",
   "execution_count": 38,
   "id": "c36aef9c-a280-492e-a7f8-758cd3f31170",
   "metadata": {},
   "outputs": [],
   "source": [
    "model.compile(optimizer='adam', loss='binary_crossentropy', metrics=['accuracy'])\n",
    "# multi-class: loss='categorical_crossentropy'"
   ]
  },
  {
   "cell_type": "markdown",
   "id": "6146ad27-88b6-49b1-86d5-fe47f86aeb35",
   "metadata": {},
   "source": [
    "##### Train the model"
   ]
  },
  {
   "cell_type": "code",
   "execution_count": 41,
   "id": "f1275062-bc4c-4ae2-81fc-faf25db1f70e",
   "metadata": {},
   "outputs": [
    {
     "data": {
      "text/plain": [
       "scipy.sparse._csr.csr_matrix"
      ]
     },
     "execution_count": 41,
     "metadata": {},
     "output_type": "execute_result"
    }
   ],
   "source": [
    "type(x_train)"
   ]
  },
  {
   "cell_type": "code",
   "execution_count": 42,
   "id": "ab174232-cca3-49a9-9857-30a9732378dd",
   "metadata": {},
   "outputs": [
    {
     "name": "stdout",
     "output_type": "stream",
     "text": [
      "Epoch 1/10\n",
      "418/418 [==============================] - 4s 8ms/step - loss: 0.1886 - accuracy: 0.9352\n",
      "Epoch 2/10\n",
      "418/418 [==============================] - 3s 7ms/step - loss: 0.0275 - accuracy: 0.9921\n",
      "Epoch 3/10\n",
      "418/418 [==============================] - 3s 7ms/step - loss: 0.0066 - accuracy: 0.9983\n",
      "Epoch 4/10\n",
      "418/418 [==============================] - 4s 8ms/step - loss: 0.0028 - accuracy: 0.9995\n",
      "Epoch 5/10\n",
      "418/418 [==============================] - 3s 8ms/step - loss: 0.0017 - accuracy: 0.9998\n",
      "Epoch 6/10\n",
      "418/418 [==============================] - 3s 8ms/step - loss: 0.0015 - accuracy: 0.9998\n",
      "Epoch 7/10\n",
      "418/418 [==============================] - 3s 8ms/step - loss: 0.0013 - accuracy: 0.9998\n",
      "Epoch 8/10\n",
      "418/418 [==============================] - 3s 7ms/step - loss: 0.0014 - accuracy: 0.9998\n",
      "Epoch 9/10\n",
      "418/418 [==============================] - 3s 8ms/step - loss: 0.0012 - accuracy: 0.9995\n",
      "Epoch 10/10\n",
      "418/418 [==============================] - 3s 7ms/step - loss: 0.0012 - accuracy: 0.9998\n"
     ]
    },
    {
     "data": {
      "text/plain": [
       "<keras.src.callbacks.History at 0x7cf4d8147610>"
      ]
     },
     "execution_count": 42,
     "metadata": {},
     "output_type": "execute_result"
    }
   ],
   "source": [
    "model.fit(x_train.toarray(), y_train, epochs=10, batch_size=10)"
   ]
  },
  {
   "cell_type": "markdown",
   "id": "104f400a-550b-4ece-b6f6-3cae66ec2694",
   "metadata": {},
   "source": [
    "##### Evaluate the model on testing data"
   ]
  },
  {
   "cell_type": "code",
   "execution_count": 46,
   "id": "ad4bca2c-4ee5-4f4b-bc24-73c1241b5313",
   "metadata": {},
   "outputs": [
    {
     "name": "stdout",
     "output_type": "stream",
     "text": [
      "1393/1393 [==============================] - 2s 1ms/step - loss: 0.1015 - accuracy: 0.9785\n"
     ]
    },
    {
     "data": {
      "text/plain": [
       "[0.1014861986041069, 0.9784637689590454]"
      ]
     },
     "execution_count": 46,
     "metadata": {},
     "output_type": "execute_result"
    }
   ],
   "source": [
    "model.evaluate(x_test.toarray(), y_test, batch_size=1)"
   ]
  },
  {
   "cell_type": "markdown",
   "id": "7a5ad048-6bac-483d-8e7e-cad60661cc55",
   "metadata": {},
   "source": [
    "##### Prediction on unseen new data"
   ]
  },
  {
   "cell_type": "code",
   "execution_count": 48,
   "id": "6f115536-e7d1-4eab-93c9-820576a334de",
   "metadata": {},
   "outputs": [],
   "source": [
    "# Dataset: sample.csv\n",
    "# Location: https://mitu.co.in/dataset"
   ]
  },
  {
   "cell_type": "code",
   "execution_count": 49,
   "id": "369eef57-dfef-4784-b8d8-7f62a9845baa",
   "metadata": {},
   "outputs": [],
   "source": [
    "f = open('sample.csv')"
   ]
  },
  {
   "cell_type": "code",
   "execution_count": 50,
   "id": "acbd62dc-7b53-42e7-a8b8-0bf304aecfd7",
   "metadata": {},
   "outputs": [],
   "source": [
    "new_data = f.readlines()"
   ]
  },
  {
   "cell_type": "code",
   "execution_count": 51,
   "id": "ed9cc6e7-de11-4967-b5ed-4f9cd59cb56a",
   "metadata": {},
   "outputs": [
    {
     "data": {
      "text/plain": [
       "['Ok lar i double check wif da hair dresser already he said wun cut v short. He said will cut until i look nice.,,\\n',\n",
       " 'As a valued customer, I am pleased to advise you that following recent review of your Mob No. you are awarded with a £1500 Bonus Prize, call 09066364589\\n',\n",
       " '\"Today is \"\"song dedicated day..\"\" Which song will u dedicate for me? Send this to all ur valuable frnds but first rply me...\",,\\n']"
      ]
     },
     "execution_count": 51,
     "metadata": {},
     "output_type": "execute_result"
    }
   ],
   "source": [
    "new_data"
   ]
  },
  {
   "cell_type": "code",
   "execution_count": 53,
   "id": "3c1591b9-b0d3-468f-bca9-c2f1c6c0cedb",
   "metadata": {},
   "outputs": [
    {
     "data": {
      "text/plain": [
       "array([[0., 0., 0., ..., 0., 0., 0.],\n",
       "       [0., 0., 0., ..., 0., 0., 0.],\n",
       "       [0., 0., 0., ..., 0., 0., 0.]])"
      ]
     },
     "execution_count": 53,
     "metadata": {},
     "output_type": "execute_result"
    }
   ],
   "source": [
    "tfidf.transform(new_data).toarray()"
   ]
  },
  {
   "cell_type": "code",
   "execution_count": 55,
   "id": "6d4facc1-5cff-4dda-ba17-ad318bf1dcd4",
   "metadata": {},
   "outputs": [
    {
     "name": "stdout",
     "output_type": "stream",
     "text": [
      "1/1 [==============================] - 0s 15ms/step\n"
     ]
    },
    {
     "data": {
      "text/plain": [
       "array([[7.7097689e-11],\n",
       "       [9.9998266e-01],\n",
       "       [7.4956217e-04]], dtype=float32)"
      ]
     },
     "execution_count": 55,
     "metadata": {},
     "output_type": "execute_result"
    }
   ],
   "source": [
    "model.predict(tfidf.transform(new_data).toarray())"
   ]
  },
  {
   "cell_type": "code",
   "execution_count": 56,
   "id": "d32e71cc-5037-4ddd-bde3-fcac33fde78f",
   "metadata": {},
   "outputs": [
    {
     "name": "stdout",
     "output_type": "stream",
     "text": [
      "1/1 [==============================] - 0s 15ms/step\n"
     ]
    }
   ],
   "source": [
    "pred = model.predict(tfidf.transform(new_data).toarray())"
   ]
  },
  {
   "cell_type": "code",
   "execution_count": 58,
   "id": "aa75a08b-ad04-428c-b15a-7b6b40dbd01f",
   "metadata": {},
   "outputs": [
    {
     "data": {
      "text/plain": [
       "array([7.709769e-11], dtype=float32)"
      ]
     },
     "execution_count": 58,
     "metadata": {},
     "output_type": "execute_result"
    }
   ],
   "source": [
    "pred[0]"
   ]
  },
  {
   "cell_type": "code",
   "execution_count": 59,
   "id": "cd3502aa-ec2f-4557-bb4a-504983e6df0d",
   "metadata": {},
   "outputs": [
    {
     "data": {
      "text/plain": [
       "array([0.99998266], dtype=float32)"
      ]
     },
     "execution_count": 59,
     "metadata": {},
     "output_type": "execute_result"
    }
   ],
   "source": [
    "pred[1]"
   ]
  },
  {
   "cell_type": "code",
   "execution_count": 60,
   "id": "80efb8ed-ad5d-4edd-b6f2-e07484fe210f",
   "metadata": {},
   "outputs": [
    {
     "data": {
      "text/plain": [
       "array([0.00074956], dtype=float32)"
      ]
     },
     "execution_count": 60,
     "metadata": {},
     "output_type": "execute_result"
    }
   ],
   "source": [
    "pred[2]"
   ]
  },
  {
   "cell_type": "code",
   "execution_count": 65,
   "id": "ae3b8d0c-d2ad-4e40-a117-b516d6177d4d",
   "metadata": {},
   "outputs": [
    {
     "name": "stdout",
     "output_type": "stream",
     "text": [
      "['ham']\n"
     ]
    }
   ],
   "source": [
    "if pred[0] > 0.5:\n",
    "    print(le.inverse_transform([1]))\n",
    "else:\n",
    "    print(le.inverse_transform([0]))"
   ]
  },
  {
   "cell_type": "code",
   "execution_count": 66,
   "id": "0cc35084-a6c8-4564-be3c-f40c6d0c65fc",
   "metadata": {},
   "outputs": [
    {
     "name": "stdout",
     "output_type": "stream",
     "text": [
      "['spam']\n"
     ]
    }
   ],
   "source": [
    "if pred[1] > 0.5:\n",
    "    print(le.inverse_transform([1]))\n",
    "else:\n",
    "    print(le.inverse_transform([0]))"
   ]
  },
  {
   "cell_type": "code",
   "execution_count": null,
   "id": "9d530824-eedf-4413-9161-a99864e4b95e",
   "metadata": {},
   "outputs": [],
   "source": []
  }
 ],
 "metadata": {
  "kernelspec": {
   "display_name": "Python 3 (ipykernel)",
   "language": "python",
   "name": "python3"
  },
  "language_info": {
   "codemirror_mode": {
    "name": "ipython",
    "version": 3
   },
   "file_extension": ".py",
   "mimetype": "text/x-python",
   "name": "python",
   "nbconvert_exporter": "python",
   "pygments_lexer": "ipython3",
   "version": "3.10.12"
  }
 },
 "nbformat": 4,
 "nbformat_minor": 5
}
